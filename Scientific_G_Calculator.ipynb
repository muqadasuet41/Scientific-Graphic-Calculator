{
  "nbformat": 4,
  "nbformat_minor": 0,
  "metadata": {
    "colab": {
      "provenance": [],
      "authorship_tag": "ABX9TyNlHTTiLzKVcpMeO3Bogk2i",
      "include_colab_link": true
    },
    "kernelspec": {
      "name": "python3",
      "display_name": "Python 3"
    },
    "language_info": {
      "name": "python"
    }
  },
  "cells": [
    {
      "cell_type": "markdown",
      "metadata": {
        "id": "view-in-github",
        "colab_type": "text"
      },
      "source": [
        "<a href=\"https://colab.research.google.com/github/muqadasuet41/Scientific-Graphic-Calculator/blob/main/Scientific_G_Calculator.ipynb\" target=\"_parent\"><img src=\"https://colab.research.google.com/assets/colab-badge.svg\" alt=\"Open In Colab\"/></a>"
      ]
    },
    {
      "cell_type": "markdown",
      "source": [
        "Set up a Scientific Calculator in Google Colab"
      ],
      "metadata": {
        "id": "8JLrE3NGEi6c"
      }
    },
    {
      "cell_type": "code",
      "source": [
        "import math\n",
        "\n",
        "def scientific_calculator():\n",
        "    print(\"Scientific Calculator\")\n",
        "    print(\"Options:\")\n",
        "    print(\"1. Addition\")\n",
        "    print(\"2. Subtraction\")\n",
        "    print(\"3. Multiplication\")\n",
        "    print(\"4. Division\")\n",
        "    print(\"5. Power\")\n",
        "    print(\"6. Square Root\")\n",
        "    print(\"7. Sine\")\n",
        "    print(\"8. Cosine\")\n",
        "    print(\"9. Tangent\")\n",
        "    print(\"10. Logarithm (base 10)\")\n",
        "    print(\"11. Exponential (e^x)\")\n",
        "    print(\"12. Exit\")\n",
        "\n",
        "    while True:\n",
        "        choice = input(\"Choose operation (1-12): \")\n",
        "\n",
        "        if choice == '12':\n",
        "            print(\"Exiting...\")\n",
        "            break\n",
        "\n",
        "        if choice in ['1', '2', '3', '4', '5']:\n",
        "            num1 = float(input(\"Enter first number: \"))\n",
        "            num2 = float(input(\"Enter second number: \"))\n",
        "\n",
        "            if choice == '1':\n",
        "                print(f\"{num1} + {num2} = {num1 + num2}\")\n",
        "            elif choice == '2':\n",
        "                print(f\"{num1} - {num2} = {num1 - num2}\")\n",
        "            elif choice == '3':\n",
        "                print(f\"{num1} * {num2} = {num1 * num2}\")\n",
        "            elif choice == '4':\n",
        "                if num2 != 0:\n",
        "                    print(f\"{num1} / {num2} = {num1 / num2}\")\n",
        "                else:\n",
        "                    print(\"Error: Division by zero!\")\n",
        "            elif choice == '5':\n",
        "                print(f\"{num1} ^ {num2} = {num1 ** num2}\")\n",
        "\n",
        "        elif choice == '6':\n",
        "            num = float(input(\"Enter number: \"))\n",
        "            if num >= 0:\n",
        "                print(f\"√{num} = {math.sqrt(num)}\")\n",
        "            else:\n",
        "                print(\"Error: Cannot take square root of a negative number!\")\n",
        "\n",
        "        elif choice in ['7', '8', '9']:\n",
        "            angle = float(input(\"Enter angle in degrees: \"))\n",
        "            radian = math.radians(angle)\n",
        "\n",
        "            if choice == '7':\n",
        "                print(f\"sin({angle}) = {math.sin(radian)}\")\n",
        "            elif choice == '8':\n",
        "                print(f\"cos({angle}) = {math.cos(radian)}\")\n",
        "            elif choice == '9':\n",
        "                print(f\"tan({angle}) = {math.tan(radian)}\")\n",
        "\n",
        "        elif choice == '10':\n",
        "            num = float(input(\"Enter number: \"))\n",
        "            if num > 0:\n",
        "                print(f\"log10({num}) = {math.log10(num)}\")\n",
        "            else:\n",
        "                print(\"Error: Logarithm undefined for non-positive numbers!\")\n",
        "\n",
        "        elif choice == '11':\n",
        "            num = float(input(\"Enter number: \"))\n",
        "            print(f\"e^{num} = {math.exp(num)}\")\n",
        "\n",
        "        else:\n",
        "            print(\"Invalid input. Please choose a valid option.\")\n",
        "\n",
        "scientific_calculator()\n"
      ],
      "metadata": {
        "colab": {
          "base_uri": "https://localhost:8080/"
        },
        "id": "KwIfoPjLFnCQ",
        "outputId": "5784fb4e-4878-411e-a420-a977b7e84e4f"
      },
      "execution_count": 2,
      "outputs": [
        {
          "output_type": "stream",
          "name": "stdout",
          "text": [
            "Scientific Calculator\n",
            "Options:\n",
            "1. Addition\n",
            "2. Subtraction\n",
            "3. Multiplication\n",
            "4. Division\n",
            "5. Power\n",
            "6. Square Root\n",
            "7. Sine\n",
            "8. Cosine\n",
            "9. Tangent\n",
            "10. Logarithm (base 10)\n",
            "11. Exponential (e^x)\n",
            "12. Exit\n",
            "Choose operation (1-12): 5\n",
            "Enter first number: 2\n",
            "Enter second number: 5\n",
            "2.0 ^ 5.0 = 32.0\n",
            "Choose operation (1-12): 6\n",
            "Enter number: 25\n",
            "√25.0 = 5.0\n",
            "Choose operation (1-12): 9\n",
            "Enter angle in degrees: 45\n",
            "tan(45.0) = 0.9999999999999999\n",
            "Choose operation (1-12): 10\n",
            "Enter number: 10\n",
            "log10(10.0) = 1.0\n",
            "Choose operation (1-12): 1\n",
            "Enter first number: 4\n",
            "Enter second number: 5\n",
            "4.0 + 5.0 = 9.0\n",
            "Choose operation (1-12): 11\n",
            "Enter number: 1\n",
            "e^1.0 = 2.718281828459045\n",
            "Choose operation (1-12): 12\n",
            "Exiting...\n"
          ]
        }
      ]
    }
  ]
}